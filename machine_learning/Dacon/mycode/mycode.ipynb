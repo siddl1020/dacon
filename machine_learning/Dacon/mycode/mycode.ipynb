{
 "cells": [
  {
   "cell_type": "code",
   "execution_count": 141,
   "metadata": {},
   "outputs": [],
   "source": [
    "import pandas as pd\n",
    "import numpy as np\n",
    "import os\n",
    "import random\n",
    "import gc\n",
    "from sklearn.preprocessing import LabelEncoder\n",
    "from sklearn.cluster import KMeans\n",
    "from sklearn.model_selection import RandomizedSearchCV, train_test_split\n",
    "from xgboost import XGBClassifier\n",
    "from sklearn.metrics import log_loss\n",
    "\n",
    "# Seed 고정 함수\n",
    "def seed_everything(seed):\n",
    "    random.seed(seed)\n",
    "    os.environ['PYTHONHASHSEED'] = str(seed)\n",
    "    np.random.seed(seed)\n",
    "seed_everything(42) # Seed 고정\n",
    "\n",
    "# CSV를 Parquet으로 변환하여 메모리 효율성 증대\n",
    "# def csv_to_parquet(csv_path, save_name):\n",
    "#     df = pd.read_csv(csv_path)\n",
    "#     df.to_parquet(f'./{save_name}.parquet')\n",
    "#     del df\n",
    "#     gc.collect()\n",
    "#     print(save_name, 'Done.')\n",
    "\n",
    "# 데이터 변환\n",
    "# csv_to_parquet('./train.csv', 'train')\n",
    "# csv_to_parquet('./test.csv', 'test')\n",
    "\n",
    "# 데이터 로드\n",
    "train = pd.read_parquet('./train.parquet')\n",
    "test = pd.read_parquet('./test.parquet')"
   ]
  },
  {
   "cell_type": "code",
   "execution_count": 142,
   "metadata": {},
   "outputs": [
    {
     "name": "stdout",
     "output_type": "stream",
     "text": [
      "Airline 복구 후 결측치 수:\n",
      "Train Airline 결측치: 11864\n",
      "Test Airline 결측치: 26893\n",
      "Airline Mapping Dictionary:\n",
      "WN      Southwest Airlines Co.\n",
      "UA                    Cape Air\n",
      "AA       Trans States Airlines\n",
      "DL    ExpressJet Airlines Inc.\n",
      "AS      Peninsula Airways Inc.\n",
      "B6             JetBlue Airways\n",
      "NK            Spirit Air Lines\n",
      "F9      Frontier Airlines Inc.\n",
      "HA        Empire Airlines Inc.\n",
      "G4               Allegiant Air\n",
      "VX              Virgin America\n",
      "dtype: object\n"
     ]
    }
   ],
   "source": [
    "# Carrier_Code(IATA) → Airline 복구\n",
    "airline_mapping = train[['Carrier_Code(IATA)', 'Airline']].dropna().drop_duplicates().set_index('Carrier_Code(IATA)')['Airline'].to_dict()\n",
    "train['Airline'] = train['Carrier_Code(IATA)'].map(airline_mapping).fillna(train['Airline'])\n",
    "test['Airline'] = test['Carrier_Code(IATA)'].map(airline_mapping).fillna(test['Airline'])\n",
    "\n",
    "# 변환 결과 확인\n",
    "print(\"Airline 복구 후 결측치 수:\")\n",
    "print(\"Train Airline 결측치:\", train['Airline'].isna().sum())\n",
    "print(\"Test Airline 결측치:\", test['Airline'].isna().sum())\n",
    "\n",
    "print(\"Airline Mapping Dictionary:\")\n",
    "print(pd.Series(airline_mapping))\n"
   ]
  },
  {
   "cell_type": "code",
   "execution_count": 143,
   "metadata": {},
   "outputs": [
    {
     "name": "stdout",
     "output_type": "stream",
     "text": [
      "Carrier_ID(DOT) 복구 후 결측치 수:\n",
      "Train Carrier_ID(DOT) 결측치: 1273\n",
      "Test Carrier_ID(DOT) 결측치: 2933\n",
      "Carrier Mapping Dictionary:\n",
      "                                           Carrier_ID(DOT)\n",
      "Airline                                                   \n",
      "Air Wisconsin Airlines Corp                        20046.0\n",
      "Alaska Airlines Inc.                               19930.0\n",
      "Allegiant Air                                      20368.0\n",
      "American Airlines Inc.                             19805.0\n",
      "Cape Air                                           20304.0\n",
      "Capital Cargo International                        20427.0\n",
      "Comair Inc.                                        20397.0\n",
      "Commutair Aka Champlain Enterprises, Inc.          20445.0\n",
      "Compass Airlines                                   21167.0\n",
      "Delta Air Lines Inc.                               19790.0\n",
      "Empire Airlines Inc.                               19690.0\n",
      "Endeavor Air Inc.                                  20363.0\n",
      "Envoy Air                                          20398.0\n",
      "ExpressJet Airlines Inc.                           19790.0\n",
      "Frontier Airlines Inc.                             20436.0\n",
      "GoJet Airlines, LLC d/b/a United Express           20500.0\n",
      "Hawaiian Airlines Inc.                             19690.0\n",
      "Horizon Air                                        19687.0\n",
      "JetBlue Airways                                    20409.0\n",
      "Mesa Airlines Inc.                                 20378.0\n",
      "Peninsula Airways Inc.                             19687.0\n",
      "Republic Airlines                                  20452.0\n",
      "SkyWest Airlines Inc.                              20304.0\n",
      "Southwest Airlines Co.                             19393.0\n",
      "Spirit Air Lines                                   20416.0\n",
      "Trans States Airlines                              19805.0\n",
      "United Air Lines Inc.                              19977.0\n",
      "Virgin America                                     21171.0\n"
     ]
    }
   ],
   "source": [
    "# Airline → Carrier_ID(DOT) 복구\n",
    "carrier_mapping = train[['Airline', 'Carrier_ID(DOT)']].dropna().drop_duplicates()\n",
    "carrier_mapping = carrier_mapping.groupby('Airline').first()  # Airline 기준으로 첫 번째 Carrier_ID(DOT)를 선택\n",
    "\n",
    "# Carrier_ID(DOT) 복구\n",
    "train['Carrier_ID(DOT)'] = train['Airline'].map(carrier_mapping['Carrier_ID(DOT)']).fillna(train['Carrier_ID(DOT)'])\n",
    "test['Carrier_ID(DOT)'] = test['Airline'].map(carrier_mapping['Carrier_ID(DOT)']).fillna(test['Carrier_ID(DOT)'])\n",
    "\n",
    "# 변환 결과 확인\n",
    "print(\"Carrier_ID(DOT) 복구 후 결측치 수:\")\n",
    "print(\"Train Carrier_ID(DOT) 결측치:\", train['Carrier_ID(DOT)'].isna().sum())\n",
    "print(\"Test Carrier_ID(DOT) 결측치:\", test['Carrier_ID(DOT)'].isna().sum())\n",
    "\n",
    "print(\"Carrier Mapping Dictionary:\")\n",
    "print(carrier_mapping)"
   ]
  },
  {
   "cell_type": "code",
   "execution_count": 144,
   "metadata": {},
   "outputs": [],
   "source": [
    "# K-Means를 활용한 EDT/EAT 복구\n",
    "features_for_kmeans = ['Origin_Airport_ID', 'Destination_Airport_ID', 'Month', 'Day_of_Month', 'Distance']\n",
    "\n",
    "# KMeans 학습\n",
    "kmeans_data = train.dropna(subset=['Estimated_Departure_Time', 'Estimated_Arrival_Time'])[features_for_kmeans].copy()\n",
    "kmeans_target = train.dropna(subset=['Estimated_Departure_Time', 'Estimated_Arrival_Time']).copy()\n",
    "\n",
    "kmeans = KMeans(n_clusters=10, random_state=42)\n",
    "kmeans.fit(kmeans_data)\n",
    "\n",
    "# 클러스터와 평균 비행 시간 계산\n",
    "kmeans_target['Cluster'] = kmeans.predict(kmeans_data)\n",
    "kmeans_target['Flight_Time'] = (\n",
    "    kmeans_target['Estimated_Arrival_Time'] - kmeans_target['Estimated_Departure_Time']\n",
    ") % 1440\n",
    "cluster_time_mapping = kmeans_target.groupby('Cluster')['Flight_Time'].mean().to_dict()\n",
    "\n",
    "# 복구 함수\n",
    "def recover_time(row, col):\n",
    "    if pd.isna(row['Estimated_Departure_Time']) or pd.isna(row['Estimated_Arrival_Time']):\n",
    "        # 예측 시에도 feature 이름을 포함한 DataFrame 전달\n",
    "        cluster = kmeans.predict(pd.DataFrame([row[features_for_kmeans].values], columns=features_for_kmeans))[0]\n",
    "        avg_time = cluster_time_mapping.get(cluster, np.nan)\n",
    "        if col == 'Estimated_Departure_Time' and not pd.isna(row['Estimated_Arrival_Time']):\n",
    "            return (row['Estimated_Arrival_Time'] - avg_time) % 1440\n",
    "        elif col == 'Estimated_Arrival_Time' and not pd.isna(row['Estimated_Departure_Time']):\n",
    "            return (row['Estimated_Departure_Time'] + avg_time) % 1440\n",
    "    return row[col]\n",
    "\n",
    "# EDT와 EAT 복구\n",
    "for col in ['Estimated_Departure_Time', 'Estimated_Arrival_Time']:\n",
    "    train[col] = train.apply(lambda row: recover_time(row, col), axis=1)\n",
    "    test[col] = test.apply(lambda row: recover_time(row, col), axis=1)\n"
   ]
  },
  {
   "cell_type": "code",
   "execution_count": 145,
   "metadata": {},
   "outputs": [],
   "source": [
    "# 불필요한 특성 제거\n",
    "columns_to_drop = ['Cancelled', 'Diverted', 'Origin_Airport', 'Destination_Airport', 'Carrier_Code(IATA)', 'Airline', 'Origin_State', 'Destination_State']\n",
    "train = train.drop(columns=columns_to_drop, errors='ignore')\n",
    "test = test.drop(columns=columns_to_drop, errors='ignore')"
   ]
  },
  {
   "cell_type": "code",
   "execution_count": 146,
   "metadata": {},
   "outputs": [
    {
     "name": "stdout",
     "output_type": "stream",
     "text": [
      "<class 'pandas.core.frame.DataFrame'>\n",
      "RangeIndex: 1000000 entries, 0 to 999999\n",
      "Data columns (total 11 columns):\n",
      " #   Column                    Non-Null Count    Dtype  \n",
      "---  ------                    --------------    -----  \n",
      " 0   ID                        1000000 non-null  object \n",
      " 1   Month                     1000000 non-null  int64  \n",
      " 2   Day_of_Month              1000000 non-null  int64  \n",
      " 3   Estimated_Departure_Time  988312 non-null   float64\n",
      " 4   Estimated_Arrival_Time    988312 non-null   float64\n",
      " 5   Origin_Airport_ID         1000000 non-null  int64  \n",
      " 6   Destination_Airport_ID    1000000 non-null  int64  \n",
      " 7   Distance                  1000000 non-null  float64\n",
      " 8   Carrier_ID(DOT)           998727 non-null   float64\n",
      " 9   Tail_Number               1000000 non-null  object \n",
      " 10  Delay                     255001 non-null   object \n",
      "dtypes: float64(4), int64(4), object(3)\n",
      "memory usage: 83.9+ MB\n"
     ]
    }
   ],
   "source": [
    "train.info()"
   ]
  },
  {
   "cell_type": "code",
   "execution_count": 147,
   "metadata": {},
   "outputs": [],
   "source": [
    "# 남은 결측치 처리\n",
    "numeric_cols = train.select_dtypes(include=['float64', 'int64']).columns\n",
    "train[numeric_cols] = train[numeric_cols].fillna(train[numeric_cols].mean())\n",
    "test[numeric_cols] = test[numeric_cols].fillna(test[numeric_cols].mean())\n",
    "\n",
    "categorical_cols = train.select_dtypes(include=['object']).columns\n",
    "for col in categorical_cols:\n",
    "    if col in test.columns:\n",
    "        mode = train[col].mode()[0]\n",
    "        train[col] = train[col].fillna(mode)\n",
    "        test[col] = test[col].fillna(mode)"
   ]
  },
  {
   "cell_type": "code",
   "execution_count": 152,
   "metadata": {},
   "outputs": [
    {
     "name": "stdout",
     "output_type": "stream",
     "text": [
      "<class 'pandas.core.frame.DataFrame'>\n",
      "RangeIndex: 1000000 entries, 0 to 999999\n",
      "Data columns (total 11 columns):\n",
      " #   Column                    Non-Null Count    Dtype  \n",
      "---  ------                    --------------    -----  \n",
      " 0   ID                        1000000 non-null  object \n",
      " 1   Month                     1000000 non-null  int64  \n",
      " 2   Day_of_Month              1000000 non-null  int64  \n",
      " 3   Estimated_Departure_Time  1000000 non-null  float64\n",
      " 4   Estimated_Arrival_Time    1000000 non-null  float64\n",
      " 5   Origin_Airport_ID         1000000 non-null  int64  \n",
      " 6   Destination_Airport_ID    1000000 non-null  int64  \n",
      " 7   Distance                  1000000 non-null  float64\n",
      " 8   Carrier_ID(DOT)           1000000 non-null  float64\n",
      " 9   Tail_Number               1000000 non-null  object \n",
      " 10  Delay                     255001 non-null   object \n",
      "dtypes: float64(4), int64(4), object(3)\n",
      "memory usage: 83.9+ MB\n"
     ]
    }
   ],
   "source": [
    "train.info()"
   ]
  },
  {
   "cell_type": "code",
   "execution_count": null,
   "metadata": {},
   "outputs": [],
   "source": []
  },
  {
   "cell_type": "code",
   "execution_count": 136,
   "metadata": {},
   "outputs": [
    {
     "name": "stdout",
     "output_type": "stream",
     "text": [
      "<class 'pandas.core.frame.DataFrame'>\n",
      "RangeIndex: 1000000 entries, 0 to 999999\n",
      "Data columns (total 12 columns):\n",
      " #   Column                    Non-Null Count    Dtype  \n",
      "---  ------                    --------------    -----  \n",
      " 0   ID                        1000000 non-null  object \n",
      " 1   Month                     1000000 non-null  int64  \n",
      " 2   Day_of_Month              1000000 non-null  int64  \n",
      " 3   Estimated_Departure_Time  1000000 non-null  float64\n",
      " 4   Estimated_Arrival_Time    1000000 non-null  float64\n",
      " 5   Origin_Airport_ID         1000000 non-null  int64  \n",
      " 6   Destination_Airport_ID    1000000 non-null  int64  \n",
      " 7   Distance                  1000000 non-null  float64\n",
      " 8   Carrier_ID(DOT)           1000000 non-null  float64\n",
      " 9   Tail_Number               1000000 non-null  object \n",
      " 10  Delay                     489332 non-null   object \n",
      " 11  Flight_Time               1000000 non-null  float64\n",
      "dtypes: float64(5), int64(4), object(3)\n",
      "memory usage: 91.6+ MB\n"
     ]
    }
   ],
   "source": [
    "train.info()"
   ]
  },
  {
   "cell_type": "code",
   "execution_count": null,
   "metadata": {},
   "outputs": [],
   "source": []
  },
  {
   "cell_type": "code",
   "execution_count": 111,
   "metadata": {},
   "outputs": [
    {
     "name": "stdout",
     "output_type": "stream",
     "text": [
      "제출 파일 생성 완료: submission.csv\n"
     ]
    }
   ],
   "source": [
    "# 테스트 데이터 예측 및 제출 파일 생성\n",
    "\n",
    "# object 타입 열을 category로 변환\n",
    "for col in test.select_dtypes(include='object').columns:\n",
    "    test[col] = test[col].astype('category')\n",
    "\n",
    "# 테스트 데이터 예측\n",
    "test_probabilities = final_model.predict_proba(test)\n",
    "\n",
    "# 제출 파일 생성\n",
    "submission = pd.DataFrame({\n",
    "    'ID': test['ID'],  # 테스트 데이터의 ID 열 사용\n",
    "    'Not_Delayed': test_probabilities[:, 0],\n",
    "    'Delayed': test_probabilities[:, 1]\n",
    "})\n",
    "submission.to_csv('submission.csv', index=False)\n",
    "print(\"제출 파일 생성 완료: submission.csv\")"
   ]
  }
 ],
 "metadata": {
  "kernelspec": {
   "display_name": "mlenv",
   "language": "python",
   "name": "python3"
  },
  "language_info": {
   "codemirror_mode": {
    "name": "ipython",
    "version": 3
   },
   "file_extension": ".py",
   "mimetype": "text/x-python",
   "name": "python",
   "nbconvert_exporter": "python",
   "pygments_lexer": "ipython3",
   "version": "3.12.8"
  }
 },
 "nbformat": 4,
 "nbformat_minor": 2
}
